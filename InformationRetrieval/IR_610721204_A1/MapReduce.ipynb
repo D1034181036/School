{
 "cells": [
  {
   "cell_type": "code",
   "execution_count": 1,
   "metadata": {},
   "outputs": [],
   "source": [
    "#!/usr/bin/env python\n",
    "import sys\n",
    "import os\n",
    "import re\n",
    "\n",
    "path = './data/txt/'\n",
    "wordcount= {}\n",
    "\n",
    "with open('map.txt','w',encoding=\"ANSI\") as f_map:\n",
    "    for filename in os.listdir(path):\n",
    "        inputfile = open(path+'/'+filename, \"r\",encoding=\"ANSI\")\n",
    "        for line in inputfile:\n",
    "            line = line.strip()\n",
    "            words = line.split()\n",
    "            for word in words:\n",
    "                print(\"%s\\t%s\" % (word, filename),file=f_map)"
   ]
  },
  {
   "cell_type": "code",
   "execution_count": 2,
   "metadata": {},
   "outputs": [],
   "source": [
    "k={}\n",
    "\n",
    "inputfile = open('./map.txt', \"r\",encoding=\"ANSI\")\n",
    "\n",
    "for line in inputfile:  \n",
    "    line = line.strip()  \n",
    "    word, filename = line.split('\\t', 1)  \n",
    "    try:\n",
    "        wordcount[word+'$'+filename] = 1\n",
    "    except:\n",
    "        wordcount[word+'$'+filename] = 1\n",
    "\n",
    "for i in wordcount.keys():\n",
    "    a,b = i.split('$',1)\n",
    "    try:\n",
    "        k[a].append(b)\n",
    "    except:\n",
    "        k[a] = list()\n",
    "        k[a].append(b)\n",
    "\n",
    "with open('reduce.txt','w',encoding=\"ANSI\") as f_reduce:\n",
    "    for i in sorted(k.keys()):\n",
    "        print('%s\\t%s' % (i,k[i]),file=f_reduce)"
   ]
  },
  {
   "cell_type": "code",
   "execution_count": 3,
   "metadata": {},
   "outputs": [
    {
     "name": "stdout",
     "output_type": "stream",
     "text": [
      "['d (1033).txt', 'd (1144).txt', 'd (211).txt', 'd (215).txt', 'd (216).txt', 'd (218).txt', 'd (226).txt', 'd (246).txt', 'd (311).txt', 'd (351).txt', 'd (408).txt', 'd (412).txt', 'd (504).txt', 'd (605).txt', 'd (653).txt', 'd (667).txt', 'd (687).txt', 'd (688).txt', 'd (692).txt', 'd (693).txt', 'd (705).txt', 'd (718).txt', 'd (75).txt', 'd (763).txt', 'd (950).txt']\n"
     ]
    }
   ],
   "source": [
    "print(k['correct'])"
   ]
  },
  {
   "cell_type": "code",
   "execution_count": 4,
   "metadata": {},
   "outputs": [
    {
     "name": "stdout",
     "output_type": "stream",
     "text": [
      "{'d (693).txt', 'd (687).txt', 'd (692).txt', 'd (408).txt', 'd (763).txt', 'd (950).txt', 'd (75).txt', 'd (226).txt', 'd (216).txt', 'd (311).txt', 'd (211).txt', 'd (667).txt', 'd (412).txt', 'd (1144).txt', 'd (718).txt', 'd (218).txt', 'd (504).txt', 'd (246).txt', 'd (605).txt', 'd (705).txt', 'd (653).txt', 'd (351).txt', 'd (215).txt', 'd (688).txt', 'd (1033).txt'}\n"
     ]
    }
   ],
   "source": [
    "q1 = set(k['the'])\n",
    "q2 = set(k['correct'])\n",
    "print(q1 & q2)"
   ]
  }
 ],
 "metadata": {
  "kernelspec": {
   "display_name": "Python 3",
   "language": "python",
   "name": "python3"
  },
  "language_info": {
   "codemirror_mode": {
    "name": "ipython",
    "version": 3
   },
   "file_extension": ".py",
   "mimetype": "text/x-python",
   "name": "python",
   "nbconvert_exporter": "python",
   "pygments_lexer": "ipython3",
   "version": "3.6.7"
  }
 },
 "nbformat": 4,
 "nbformat_minor": 2
}
